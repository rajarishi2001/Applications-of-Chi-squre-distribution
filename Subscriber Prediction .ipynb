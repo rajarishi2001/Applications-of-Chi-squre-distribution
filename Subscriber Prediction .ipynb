{
 "cells": [
  {
   "cell_type": "code",
   "execution_count": 1,
   "id": "4c8b75f3",
   "metadata": {},
   "outputs": [],
   "source": [
    "import pandas as pd\n",
    "import numpy as np\n",
    "import matplotlib.pyplot as plt\n",
    "import seaborn as sns\n",
    "import warnings\n",
    "warnings.filterwarnings('ignore')\n",
    "plt.rcParams['figure.figsize']=[10,6]"
   ]
  },
  {
   "cell_type": "markdown",
   "id": "6cdf0f90",
   "metadata": {},
   "source": [
    "# PROBLEM STATEMENT"
   ]
  },
  {
   "cell_type": "markdown",
   "id": "f8808410",
   "metadata": {},
   "source": [
    "This hackathon will try to address the challenges of banking telecallers when they call blindly to people in order to sell term deposit plans. The aim of this hackathon is to find the most accurate prediction of whether a person to be called will subscribe to the term deposit plan or not using any of the machine learning algorithms. The participants can use the historical data that consists of different features of customers and whether they subscribed to the plan or not. Using this data, the participants need to build a machine learning model in order to make predictions."
   ]
  },
  {
   "cell_type": "raw",
   "id": "948b2ebc",
   "metadata": {},
   "source": [
    "(Data dimension: 17 features and 30,000 records)\n",
    "\n",
    "The dataset has 17 features, including 16 input features and 1 output or target feature\n",
    "\n",
    "Input Features\n",
    "Age: Age of the customer\n",
    "Job: Type of job of customer\n",
    "Marital: Marital status of the customer\n",
    "Education: The education level of the customer\n",
    "Default: Has credit in default?\n",
    "Balance: Average yearly balance (in Euros)\n",
    "Housing: Has a housing loan?\n",
    "Loan: Has a personal loan?\n",
    "Contact: Contact communication type\n",
    "Day: Last contact day of the month\n",
    "Month: Last contact month of the year\n",
    "Duration: Last contact duration, in seconds\n",
    "Campaign: Number of contacts performed during this campaign and for this client\n",
    "Pdays: Number of days that passed by after the client was last contacted from a previous campaign (-1 means the client was not previously contacted)\n",
    "Previous: Number of contacts performed before this campaign and for this client\n",
    "Poutcome: Outcome of the previous marketing campaign\n",
    "  Output feature (Target feature)\n",
    " 17 - y - Has the customer subscribed to a term deposit?\n",
    "\n",
    "The hackathon participants need to build a machine learning based model to predict the value of the target feature (whether a customer will subscribe to the plan or not) based on the given set of input features."
   ]
  },
  {
   "cell_type": "code",
   "execution_count": 2,
   "id": "8c427ea5",
   "metadata": {},
   "outputs": [
    {
     "data": {
      "text/html": [
       "<div>\n",
       "<style scoped>\n",
       "    .dataframe tbody tr th:only-of-type {\n",
       "        vertical-align: middle;\n",
       "    }\n",
       "\n",
       "    .dataframe tbody tr th {\n",
       "        vertical-align: top;\n",
       "    }\n",
       "\n",
       "    .dataframe thead th {\n",
       "        text-align: right;\n",
       "    }\n",
       "</style>\n",
       "<table border=\"1\" class=\"dataframe\">\n",
       "  <thead>\n",
       "    <tr style=\"text-align: right;\">\n",
       "      <th></th>\n",
       "      <th>age</th>\n",
       "      <th>job</th>\n",
       "      <th>marital</th>\n",
       "      <th>education</th>\n",
       "      <th>default</th>\n",
       "      <th>balance</th>\n",
       "      <th>housing</th>\n",
       "      <th>loan</th>\n",
       "      <th>contact</th>\n",
       "      <th>day</th>\n",
       "      <th>month</th>\n",
       "      <th>duration</th>\n",
       "      <th>campaign</th>\n",
       "      <th>pdays</th>\n",
       "      <th>previous</th>\n",
       "      <th>poutcome</th>\n",
       "      <th>y_bool</th>\n",
       "    </tr>\n",
       "  </thead>\n",
       "  <tbody>\n",
       "    <tr>\n",
       "      <th>0</th>\n",
       "      <td>51</td>\n",
       "      <td>admin.</td>\n",
       "      <td>married</td>\n",
       "      <td>tertiary</td>\n",
       "      <td>no</td>\n",
       "      <td>148</td>\n",
       "      <td>no</td>\n",
       "      <td>no</td>\n",
       "      <td>cellular</td>\n",
       "      <td>15</td>\n",
       "      <td>apr</td>\n",
       "      <td>263</td>\n",
       "      <td>2</td>\n",
       "      <td>-1</td>\n",
       "      <td>0</td>\n",
       "      <td>unknown</td>\n",
       "      <td>0</td>\n",
       "    </tr>\n",
       "    <tr>\n",
       "      <th>1</th>\n",
       "      <td>55</td>\n",
       "      <td>blue-collar</td>\n",
       "      <td>married</td>\n",
       "      <td>secondary</td>\n",
       "      <td>no</td>\n",
       "      <td>7160</td>\n",
       "      <td>yes</td>\n",
       "      <td>no</td>\n",
       "      <td>unknown</td>\n",
       "      <td>4</td>\n",
       "      <td>may</td>\n",
       "      <td>315</td>\n",
       "      <td>1</td>\n",
       "      <td>-1</td>\n",
       "      <td>0</td>\n",
       "      <td>unknown</td>\n",
       "      <td>0</td>\n",
       "    </tr>\n",
       "    <tr>\n",
       "      <th>2</th>\n",
       "      <td>65</td>\n",
       "      <td>blue-collar</td>\n",
       "      <td>divorced</td>\n",
       "      <td>tertiary</td>\n",
       "      <td>no</td>\n",
       "      <td>2197</td>\n",
       "      <td>yes</td>\n",
       "      <td>no</td>\n",
       "      <td>cellular</td>\n",
       "      <td>12</td>\n",
       "      <td>may</td>\n",
       "      <td>102</td>\n",
       "      <td>2</td>\n",
       "      <td>-1</td>\n",
       "      <td>0</td>\n",
       "      <td>unknown</td>\n",
       "      <td>0</td>\n",
       "    </tr>\n",
       "  </tbody>\n",
       "</table>\n",
       "</div>"
      ],
      "text/plain": [
       "   age          job   marital  education default  balance housing loan  \\\n",
       "0   51       admin.   married   tertiary      no      148      no   no   \n",
       "1   55  blue-collar   married  secondary      no     7160     yes   no   \n",
       "2   65  blue-collar  divorced   tertiary      no     2197     yes   no   \n",
       "\n",
       "    contact  day month  duration  campaign  pdays  previous poutcome  y_bool  \n",
       "0  cellular   15   apr       263         2     -1         0  unknown       0  \n",
       "1   unknown    4   may       315         1     -1         0  unknown       0  \n",
       "2  cellular   12   may       102         2     -1         0  unknown       0  "
      ]
     },
     "execution_count": 2,
     "metadata": {},
     "output_type": "execute_result"
    }
   ],
   "source": [
    "train=pd.read_csv('train.csv')\n",
    "train.head(3)"
   ]
  },
  {
   "cell_type": "code",
   "execution_count": 3,
   "id": "3a1f19ac",
   "metadata": {},
   "outputs": [
    {
     "data": {
      "text/html": [
       "<div>\n",
       "<style scoped>\n",
       "    .dataframe tbody tr th:only-of-type {\n",
       "        vertical-align: middle;\n",
       "    }\n",
       "\n",
       "    .dataframe tbody tr th {\n",
       "        vertical-align: top;\n",
       "    }\n",
       "\n",
       "    .dataframe thead th {\n",
       "        text-align: right;\n",
       "    }\n",
       "</style>\n",
       "<table border=\"1\" class=\"dataframe\">\n",
       "  <thead>\n",
       "    <tr style=\"text-align: right;\">\n",
       "      <th></th>\n",
       "      <th>age</th>\n",
       "      <th>job</th>\n",
       "      <th>marital</th>\n",
       "      <th>education</th>\n",
       "      <th>default</th>\n",
       "      <th>balance</th>\n",
       "      <th>housing</th>\n",
       "      <th>loan</th>\n",
       "      <th>contact</th>\n",
       "      <th>day</th>\n",
       "      <th>month</th>\n",
       "      <th>duration</th>\n",
       "      <th>campaign</th>\n",
       "      <th>pdays</th>\n",
       "      <th>previous</th>\n",
       "      <th>poutcome</th>\n",
       "    </tr>\n",
       "  </thead>\n",
       "  <tbody>\n",
       "    <tr>\n",
       "      <th>0</th>\n",
       "      <td>36</td>\n",
       "      <td>technician</td>\n",
       "      <td>divorced</td>\n",
       "      <td>secondary</td>\n",
       "      <td>no</td>\n",
       "      <td>1842</td>\n",
       "      <td>yes</td>\n",
       "      <td>yes</td>\n",
       "      <td>cellular</td>\n",
       "      <td>5</td>\n",
       "      <td>aug</td>\n",
       "      <td>149</td>\n",
       "      <td>1</td>\n",
       "      <td>-1</td>\n",
       "      <td>0</td>\n",
       "      <td>unknown</td>\n",
       "    </tr>\n",
       "    <tr>\n",
       "      <th>1</th>\n",
       "      <td>26</td>\n",
       "      <td>management</td>\n",
       "      <td>married</td>\n",
       "      <td>primary</td>\n",
       "      <td>no</td>\n",
       "      <td>165</td>\n",
       "      <td>no</td>\n",
       "      <td>no</td>\n",
       "      <td>cellular</td>\n",
       "      <td>7</td>\n",
       "      <td>nov</td>\n",
       "      <td>44</td>\n",
       "      <td>2</td>\n",
       "      <td>-1</td>\n",
       "      <td>0</td>\n",
       "      <td>unknown</td>\n",
       "    </tr>\n",
       "    <tr>\n",
       "      <th>2</th>\n",
       "      <td>50</td>\n",
       "      <td>management</td>\n",
       "      <td>married</td>\n",
       "      <td>unknown</td>\n",
       "      <td>no</td>\n",
       "      <td>5006</td>\n",
       "      <td>yes</td>\n",
       "      <td>no</td>\n",
       "      <td>cellular</td>\n",
       "      <td>7</td>\n",
       "      <td>may</td>\n",
       "      <td>664</td>\n",
       "      <td>2</td>\n",
       "      <td>-1</td>\n",
       "      <td>0</td>\n",
       "      <td>other</td>\n",
       "    </tr>\n",
       "  </tbody>\n",
       "</table>\n",
       "</div>"
      ],
      "text/plain": [
       "   age         job   marital  education default  balance housing loan  \\\n",
       "0   36  technician  divorced  secondary      no     1842     yes  yes   \n",
       "1   26  management   married    primary      no      165      no   no   \n",
       "2   50  management   married    unknown      no     5006     yes   no   \n",
       "\n",
       "    contact  day month  duration  campaign  pdays  previous poutcome  \n",
       "0  cellular    5   aug       149         1     -1         0  unknown  \n",
       "1  cellular    7   nov        44         2     -1         0  unknown  \n",
       "2  cellular    7   may       664         2     -1         0    other  "
      ]
     },
     "execution_count": 3,
     "metadata": {},
     "output_type": "execute_result"
    }
   ],
   "source": [
    "test=pd.read_csv('test.csv')\n",
    "test.head(3)"
   ]
  },
  {
   "cell_type": "code",
   "execution_count": 4,
   "id": "2106de90",
   "metadata": {},
   "outputs": [
    {
     "data": {
      "text/plain": [
       "((21000, 17), (9000, 16))"
      ]
     },
     "execution_count": 4,
     "metadata": {},
     "output_type": "execute_result"
    }
   ],
   "source": [
    "train.shape,test.shape"
   ]
  },
  {
   "cell_type": "code",
   "execution_count": 5,
   "id": "4e2cccd5",
   "metadata": {},
   "outputs": [
    {
     "name": "stdout",
     "output_type": "stream",
     "text": [
      "<class 'pandas.core.frame.DataFrame'>\n",
      "RangeIndex: 21000 entries, 0 to 20999\n",
      "Data columns (total 17 columns):\n",
      " #   Column     Non-Null Count  Dtype \n",
      "---  ------     --------------  ----- \n",
      " 0   age        21000 non-null  int64 \n",
      " 1   job        21000 non-null  object\n",
      " 2   marital    21000 non-null  object\n",
      " 3   education  21000 non-null  object\n",
      " 4   default    21000 non-null  object\n",
      " 5   balance    21000 non-null  int64 \n",
      " 6   housing    21000 non-null  object\n",
      " 7   loan       21000 non-null  object\n",
      " 8   contact    21000 non-null  object\n",
      " 9   day        21000 non-null  int64 \n",
      " 10  month      21000 non-null  object\n",
      " 11  duration   21000 non-null  int64 \n",
      " 12  campaign   21000 non-null  int64 \n",
      " 13  pdays      21000 non-null  int64 \n",
      " 14  previous   21000 non-null  int64 \n",
      " 15  poutcome   21000 non-null  object\n",
      " 16  y_bool     21000 non-null  int64 \n",
      "dtypes: int64(8), object(9)\n",
      "memory usage: 2.7+ MB\n"
     ]
    }
   ],
   "source": [
    "train.info()"
   ]
  },
  {
   "cell_type": "code",
   "execution_count": 17,
   "id": "e0174924",
   "metadata": {},
   "outputs": [
    {
     "data": {
      "text/plain": [
       "<AxesSubplot:>"
      ]
     },
     "execution_count": 17,
     "metadata": {},
     "output_type": "execute_result"
    },
    {
     "data": {
      "image/png": "[encoded data removed]",
      "text/plain": [
       "<Figure size 720x432 with 1 Axes>"
      ]
     },
     "metadata": {
      "needs_background": "light"
     },
     "output_type": "display_data"
    }
   ],
   "source": [
    "# Target variable:\n",
    "train.y_bool.value_counts().plot(kind='bar')\n",
    "# The target variable is imbalanced."
   ]
  },
  {
   "cell_type": "code",
   "execution_count": 9,
   "id": "42b95d02",
   "metadata": {},
   "outputs": [],
   "source": [
    "# Combine the data\n",
    "combined=pd.concat([train,test],ignore_index=True)"
   ]
  },
  {
   "cell_type": "code",
   "execution_count": 11,
   "id": "b1f02d1d",
   "metadata": {},
   "outputs": [
    {
     "data": {
      "text/plain": [
       "Index(['age', 'job', 'marital', 'education', 'default', 'balance', 'housing',\n",
       "       'loan', 'contact', 'day', 'month', 'duration', 'campaign', 'pdays',\n",
       "       'previous', 'poutcome', 'y_bool'],\n",
       "      dtype='object')"
      ]
     },
     "execution_count": 11,
     "metadata": {},
     "output_type": "execute_result"
    }
   ],
   "source": [
    "combined.columns"
   ]
  },
  {
   "cell_type": "code",
   "execution_count": 10,
   "id": "6536f9a1",
   "metadata": {},
   "outputs": [
    {
     "data": {
      "text/plain": [
       "array(['admin.', 'blue-collar', 'services', 'self-employed', 'technician',\n",
       "       'management', 'unknown', 'unemployed', 'retired', 'housemaid',\n",
       "       'entrepreneur', 'student'], dtype=object)"
      ]
     },
     "execution_count": 10,
     "metadata": {},
     "output_type": "execute_result"
    }
   ],
   "source": [
    "combined.job.unique()"
   ]
  },
  {
   "cell_type": "code",
   "execution_count": 13,
   "id": "a2a07138",
   "metadata": {},
   "outputs": [],
   "source": [
    "# Binning the profession into categories\n",
    "def prof(x):\n",
    "    if x in ['unknown', 'unemployed', 'retired','student']:\n",
    "        return('Unemployed')\n",
    "    elif x in ['entrepreneur','employed','management','admin.']:\n",
    "        return('Employed')\n",
    "    elif x in ['blue-collar','services','technician','housemaid']:\n",
    "        return('blue_collar')\n",
    "    else:\n",
    "        return(x)"
   ]
  },
  {
   "cell_type": "code",
   "execution_count": 14,
   "id": "c549958e",
   "metadata": {},
   "outputs": [],
   "source": [
    "combined['profession']=combined.job.apply(prof)"
   ]
  },
  {
   "cell_type": "code",
   "execution_count": 15,
   "id": "5d008be5",
   "metadata": {},
   "outputs": [
    {
     "data": {
      "text/html": [
       "<div>\n",
       "<style scoped>\n",
       "    .dataframe tbody tr th:only-of-type {\n",
       "        vertical-align: middle;\n",
       "    }\n",
       "\n",
       "    .dataframe tbody tr th {\n",
       "        vertical-align: top;\n",
       "    }\n",
       "\n",
       "    .dataframe thead th {\n",
       "        text-align: right;\n",
       "    }\n",
       "</style>\n",
       "<table border=\"1\" class=\"dataframe\">\n",
       "  <thead>\n",
       "    <tr style=\"text-align: right;\">\n",
       "      <th></th>\n",
       "      <th>age</th>\n",
       "      <th>job</th>\n",
       "      <th>marital</th>\n",
       "      <th>education</th>\n",
       "      <th>default</th>\n",
       "      <th>balance</th>\n",
       "      <th>housing</th>\n",
       "      <th>loan</th>\n",
       "      <th>contact</th>\n",
       "      <th>day</th>\n",
       "      <th>month</th>\n",
       "      <th>duration</th>\n",
       "      <th>campaign</th>\n",
       "      <th>pdays</th>\n",
       "      <th>previous</th>\n",
       "      <th>poutcome</th>\n",
       "      <th>y_bool</th>\n",
       "      <th>profession</th>\n",
       "    </tr>\n",
       "  </thead>\n",
       "  <tbody>\n",
       "    <tr>\n",
       "      <th>0</th>\n",
       "      <td>51</td>\n",
       "      <td>admin.</td>\n",
       "      <td>married</td>\n",
       "      <td>tertiary</td>\n",
       "      <td>no</td>\n",
       "      <td>148</td>\n",
       "      <td>no</td>\n",
       "      <td>no</td>\n",
       "      <td>cellular</td>\n",
       "      <td>15</td>\n",
       "      <td>apr</td>\n",
       "      <td>263</td>\n",
       "      <td>2</td>\n",
       "      <td>-1</td>\n",
       "      <td>0</td>\n",
       "      <td>unknown</td>\n",
       "      <td>0.0</td>\n",
       "      <td>Employed</td>\n",
       "    </tr>\n",
       "    <tr>\n",
       "      <th>1</th>\n",
       "      <td>55</td>\n",
       "      <td>blue-collar</td>\n",
       "      <td>married</td>\n",
       "      <td>secondary</td>\n",
       "      <td>no</td>\n",
       "      <td>7160</td>\n",
       "      <td>yes</td>\n",
       "      <td>no</td>\n",
       "      <td>unknown</td>\n",
       "      <td>4</td>\n",
       "      <td>may</td>\n",
       "      <td>315</td>\n",
       "      <td>1</td>\n",
       "      <td>-1</td>\n",
       "      <td>0</td>\n",
       "      <td>unknown</td>\n",
       "      <td>0.0</td>\n",
       "      <td>blue_collar</td>\n",
       "    </tr>\n",
       "    <tr>\n",
       "      <th>2</th>\n",
       "      <td>65</td>\n",
       "      <td>blue-collar</td>\n",
       "      <td>divorced</td>\n",
       "      <td>tertiary</td>\n",
       "      <td>no</td>\n",
       "      <td>2197</td>\n",
       "      <td>yes</td>\n",
       "      <td>no</td>\n",
       "      <td>cellular</td>\n",
       "      <td>12</td>\n",
       "      <td>may</td>\n",
       "      <td>102</td>\n",
       "      <td>2</td>\n",
       "      <td>-1</td>\n",
       "      <td>0</td>\n",
       "      <td>unknown</td>\n",
       "      <td>0.0</td>\n",
       "      <td>blue_collar</td>\n",
       "    </tr>\n",
       "  </tbody>\n",
       "</table>\n",
       "</div>"
      ],
      "text/plain": [
       "   age          job   marital  education default  balance housing loan  \\\n",
       "0   51       admin.   married   tertiary      no      148      no   no   \n",
       "1   55  blue-collar   married  secondary      no     7160     yes   no   \n",
       "2   65  blue-collar  divorced   tertiary      no     2197     yes   no   \n",
       "\n",
       "    contact  day month  duration  campaign  pdays  previous poutcome  y_bool  \\\n",
       "0  cellular   15   apr       263         2     -1         0  unknown     0.0   \n",
       "1   unknown    4   may       315         1     -1         0  unknown     0.0   \n",
       "2  cellular   12   may       102         2     -1         0  unknown     0.0   \n",
       "\n",
       "    profession  \n",
       "0     Employed  \n",
       "1  blue_collar  \n",
       "2  blue_collar  "
      ]
     },
     "execution_count": 15,
     "metadata": {},
     "output_type": "execute_result"
    }
   ],
   "source": [
    "combined.head(3)"
   ]
  },
  {
   "cell_type": "code",
   "execution_count": 16,
   "id": "667e8542",
   "metadata": {},
   "outputs": [
    {
     "data": {
      "text/plain": [
       "blue_collar      16165\n",
       "Employed         10674\n",
       "Unemployed        2394\n",
       "self-employed      767\n",
       "Name: profession, dtype: int64"
      ]
     },
     "execution_count": 16,
     "metadata": {},
     "output_type": "execute_result"
    }
   ],
   "source": [
    "combined.profession.value_counts()"
   ]
  },
  {
   "cell_type": "code",
   "execution_count": 29,
   "id": "990065b8",
   "metadata": {},
   "outputs": [
    {
     "name": "stdout",
     "output_type": "stream",
     "text": [
      "P-value 0.8998156184915612\n"
     ]
    }
   ],
   "source": [
    "tbl=pd.crosstab(combined.profession,combined.y_bool)\n",
    "import scipy.stats as stats\n",
    "teststats,pvalue,df,exp_freq=stats.chi2_contingency(tbl)\n",
    "print('P-value',pvalue)"
   ]
  },
  {
   "cell_type": "code",
   "execution_count": 30,
   "id": "299cb997",
   "metadata": {},
   "outputs": [
    {
     "data": {
      "text/plain": [
       "<AxesSubplot:xlabel='profession'>"
      ]
     },
     "execution_count": 30,
     "metadata": {},
     "output_type": "execute_result"
    },
    {
     "data": {
      "image/png": "[encoded data removed]",
      "text/plain": [
       "<Figure size 720x432 with 1 Axes>"
      ]
     },
     "metadata": {
      "needs_background": "light"
     },
     "output_type": "display_data"
    }
   ],
   "source": [
    "tbl.plot(kind='bar')"
   ]
  },
  {
   "cell_type": "code",
   "execution_count": 33,
   "id": "4b00680e",
   "metadata": {},
   "outputs": [
    {
     "data": {
      "text/plain": [
       "Index(['job', 'marital', 'education', 'default', 'housing', 'loan', 'contact',\n",
       "       'month', 'poutcome', 'profession'],\n",
       "      dtype='object')"
      ]
     },
     "execution_count": 33,
     "metadata": {},
     "output_type": "execute_result"
    }
   ],
   "source": [
    "cat_cols=combined.select_dtypes(include=[np.object]).columns\n",
    "cat_cols"
   ]
  },
  {
   "cell_type": "code",
   "execution_count": 35,
   "id": "43797c77",
   "metadata": {},
   "outputs": [
    {
     "name": "stdout",
     "output_type": "stream",
     "text": [
      "marital\n",
      "default\n",
      "housing\n",
      "loan\n",
      "contact\n"
     ]
    }
   ],
   "source": [
    "for i in cat_cols:\n",
    "    if len(combined.loc[:,i].unique())<=3:\n",
    "        print(i)"
   ]
  },
  {
   "cell_type": "code",
   "execution_count": 36,
   "id": "e5670832",
   "metadata": {},
   "outputs": [
    {
     "data": {
      "text/plain": [
       "array(['tertiary', 'secondary', 'primary', 'unknown'], dtype=object)"
      ]
     },
     "execution_count": 36,
     "metadata": {},
     "output_type": "execute_result"
    }
   ],
   "source": [
    "combined.education.unique()"
   ]
  },
  {
   "cell_type": "code",
   "execution_count": 42,
   "id": "434c5995",
   "metadata": {},
   "outputs": [
    {
     "data": {
      "text/plain": [
       "blue_collar      861\n",
       "Employed         597\n",
       "Unemployed       126\n",
       "self-employed     31\n",
       "Name: profession, dtype: int64"
      ]
     },
     "execution_count": 42,
     "metadata": {},
     "output_type": "execute_result"
    }
   ],
   "source": [
    "combined.loc[combined.education=='unknown','profession'].value_counts()"
   ]
  },
  {
   "cell_type": "code",
   "execution_count": 43,
   "id": "a1e537e4",
   "metadata": {},
   "outputs": [
    {
     "data": {
      "text/html": [
       "<div>\n",
       "<style scoped>\n",
       "    .dataframe tbody tr th:only-of-type {\n",
       "        vertical-align: middle;\n",
       "    }\n",
       "\n",
       "    .dataframe tbody tr th {\n",
       "        vertical-align: top;\n",
       "    }\n",
       "\n",
       "    .dataframe thead th {\n",
       "        text-align: right;\n",
       "    }\n",
       "</style>\n",
       "<table border=\"1\" class=\"dataframe\">\n",
       "  <thead>\n",
       "    <tr style=\"text-align: right;\">\n",
       "      <th></th>\n",
       "      <th>age</th>\n",
       "      <th>job</th>\n",
       "      <th>marital</th>\n",
       "      <th>education</th>\n",
       "      <th>default</th>\n",
       "      <th>balance</th>\n",
       "      <th>housing</th>\n",
       "      <th>loan</th>\n",
       "      <th>contact</th>\n",
       "      <th>day</th>\n",
       "      <th>month</th>\n",
       "      <th>duration</th>\n",
       "      <th>campaign</th>\n",
       "      <th>pdays</th>\n",
       "      <th>previous</th>\n",
       "      <th>poutcome</th>\n",
       "      <th>y_bool</th>\n",
       "      <th>profession</th>\n",
       "    </tr>\n",
       "  </thead>\n",
       "  <tbody>\n",
       "    <tr>\n",
       "      <th>0</th>\n",
       "      <td>51</td>\n",
       "      <td>admin.</td>\n",
       "      <td>married</td>\n",
       "      <td>tertiary</td>\n",
       "      <td>no</td>\n",
       "      <td>148</td>\n",
       "      <td>no</td>\n",
       "      <td>no</td>\n",
       "      <td>cellular</td>\n",
       "      <td>15</td>\n",
       "      <td>apr</td>\n",
       "      <td>263</td>\n",
       "      <td>2</td>\n",
       "      <td>-1</td>\n",
       "      <td>0</td>\n",
       "      <td>unknown</td>\n",
       "      <td>0.0</td>\n",
       "      <td>Employed</td>\n",
       "    </tr>\n",
       "    <tr>\n",
       "      <th>1</th>\n",
       "      <td>55</td>\n",
       "      <td>blue-collar</td>\n",
       "      <td>married</td>\n",
       "      <td>secondary</td>\n",
       "      <td>no</td>\n",
       "      <td>7160</td>\n",
       "      <td>yes</td>\n",
       "      <td>no</td>\n",
       "      <td>unknown</td>\n",
       "      <td>4</td>\n",
       "      <td>may</td>\n",
       "      <td>315</td>\n",
       "      <td>1</td>\n",
       "      <td>-1</td>\n",
       "      <td>0</td>\n",
       "      <td>unknown</td>\n",
       "      <td>0.0</td>\n",
       "      <td>blue_collar</td>\n",
       "    </tr>\n",
       "    <tr>\n",
       "      <th>2</th>\n",
       "      <td>65</td>\n",
       "      <td>blue-collar</td>\n",
       "      <td>divorced</td>\n",
       "      <td>tertiary</td>\n",
       "      <td>no</td>\n",
       "      <td>2197</td>\n",
       "      <td>yes</td>\n",
       "      <td>no</td>\n",
       "      <td>cellular</td>\n",
       "      <td>12</td>\n",
       "      <td>may</td>\n",
       "      <td>102</td>\n",
       "      <td>2</td>\n",
       "      <td>-1</td>\n",
       "      <td>0</td>\n",
       "      <td>unknown</td>\n",
       "      <td>0.0</td>\n",
       "      <td>blue_collar</td>\n",
       "    </tr>\n",
       "    <tr>\n",
       "      <th>3</th>\n",
       "      <td>25</td>\n",
       "      <td>admin.</td>\n",
       "      <td>married</td>\n",
       "      <td>secondary</td>\n",
       "      <td>no</td>\n",
       "      <td>6658</td>\n",
       "      <td>yes</td>\n",
       "      <td>no</td>\n",
       "      <td>cellular</td>\n",
       "      <td>16</td>\n",
       "      <td>feb</td>\n",
       "      <td>197</td>\n",
       "      <td>1</td>\n",
       "      <td>-1</td>\n",
       "      <td>0</td>\n",
       "      <td>unknown</td>\n",
       "      <td>1.0</td>\n",
       "      <td>Employed</td>\n",
       "    </tr>\n",
       "    <tr>\n",
       "      <th>4</th>\n",
       "      <td>36</td>\n",
       "      <td>services</td>\n",
       "      <td>married</td>\n",
       "      <td>secondary</td>\n",
       "      <td>no</td>\n",
       "      <td>1761</td>\n",
       "      <td>yes</td>\n",
       "      <td>no</td>\n",
       "      <td>cellular</td>\n",
       "      <td>19</td>\n",
       "      <td>sep</td>\n",
       "      <td>177</td>\n",
       "      <td>1</td>\n",
       "      <td>-1</td>\n",
       "      <td>0</td>\n",
       "      <td>success</td>\n",
       "      <td>0.0</td>\n",
       "      <td>blue_collar</td>\n",
       "    </tr>\n",
       "  </tbody>\n",
       "</table>\n",
       "</div>"
      ],
      "text/plain": [
       "   age          job   marital  education default  balance housing loan  \\\n",
       "0   51       admin.   married   tertiary      no      148      no   no   \n",
       "1   55  blue-collar   married  secondary      no     7160     yes   no   \n",
       "2   65  blue-collar  divorced   tertiary      no     2197     yes   no   \n",
       "3   25       admin.   married  secondary      no     6658     yes   no   \n",
       "4   36     services   married  secondary      no     1761     yes   no   \n",
       "\n",
       "    contact  day month  duration  campaign  pdays  previous poutcome  y_bool  \\\n",
       "0  cellular   15   apr       263         2     -1         0  unknown     0.0   \n",
       "1   unknown    4   may       315         1     -1         0  unknown     0.0   \n",
       "2  cellular   12   may       102         2     -1         0  unknown     0.0   \n",
       "3  cellular   16   feb       197         1     -1         0  unknown     1.0   \n",
       "4  cellular   19   sep       177         1     -1         0  success     0.0   \n",
       "\n",
       "    profession  \n",
       "0     Employed  \n",
       "1  blue_collar  \n",
       "2  blue_collar  \n",
       "3     Employed  \n",
       "4  blue_collar  "
      ]
     },
     "execution_count": 43,
     "metadata": {},
     "output_type": "execute_result"
    }
   ],
   "source": [
    "combined.head()"
   ]
  },
  {
   "cell_type": "code",
   "execution_count": 49,
   "id": "8590a1e6",
   "metadata": {},
   "outputs": [
    {
     "data": {
      "text/plain": [
       "array(['unknown', 'success', 'failure', 'other'], dtype=object)"
      ]
     },
     "execution_count": 49,
     "metadata": {},
     "output_type": "execute_result"
    }
   ],
   "source": [
    "combined.poutcome.unique()"
   ]
  },
  {
   "cell_type": "code",
   "execution_count": 47,
   "id": "1ae37a77",
   "metadata": {},
   "outputs": [
    {
     "data": {
      "text/html": [
       "<div>\n",
       "<style scoped>\n",
       "    .dataframe tbody tr th:only-of-type {\n",
       "        vertical-align: middle;\n",
       "    }\n",
       "\n",
       "    .dataframe tbody tr th {\n",
       "        vertical-align: top;\n",
       "    }\n",
       "\n",
       "    .dataframe thead tr th {\n",
       "        text-align: left;\n",
       "    }\n",
       "</style>\n",
       "<table border=\"1\" class=\"dataframe\">\n",
       "  <thead>\n",
       "    <tr>\n",
       "      <th>poutcome</th>\n",
       "      <th colspan=\"2\" halign=\"left\">failure</th>\n",
       "      <th colspan=\"2\" halign=\"left\">other</th>\n",
       "      <th colspan=\"2\" halign=\"left\">success</th>\n",
       "      <th colspan=\"2\" halign=\"left\">unknown</th>\n",
       "    </tr>\n",
       "    <tr>\n",
       "      <th>y_bool</th>\n",
       "      <th>0.0</th>\n",
       "      <th>1.0</th>\n",
       "      <th>0.0</th>\n",
       "      <th>1.0</th>\n",
       "      <th>0.0</th>\n",
       "      <th>1.0</th>\n",
       "      <th>0.0</th>\n",
       "      <th>1.0</th>\n",
       "    </tr>\n",
       "  </thead>\n",
       "  <tbody>\n",
       "    <tr>\n",
       "      <th>y_bool</th>\n",
       "      <td>0.742012</td>\n",
       "      <td>0.257988</td>\n",
       "      <td>0.732836</td>\n",
       "      <td>0.267164</td>\n",
       "      <td>0.689922</td>\n",
       "      <td>0.310078</td>\n",
       "      <td>0.729178</td>\n",
       "      <td>0.270822</td>\n",
       "    </tr>\n",
       "  </tbody>\n",
       "</table>\n",
       "</div>"
      ],
      "text/plain": [
       "poutcome   failure               other             success            \\\n",
       "y_bool         0.0       1.0       0.0       1.0       0.0       1.0   \n",
       "y_bool    0.742012  0.257988  0.732836  0.267164  0.689922  0.310078   \n",
       "\n",
       "poutcome   unknown            \n",
       "y_bool         0.0       1.0  \n",
       "y_bool    0.729178  0.270822  "
      ]
     },
     "execution_count": 47,
     "metadata": {},
     "output_type": "execute_result"
    }
   ],
   "source": [
    "pd.DataFrame(combined.groupby('poutcome')['y_bool'].value_counts(normalize=True)).T"
   ]
  },
  {
   "cell_type": "code",
   "execution_count": 54,
   "id": "37850a56",
   "metadata": {},
   "outputs": [
    {
     "name": "stdout",
     "output_type": "stream",
     "text": [
      "['job']\n"
     ]
    }
   ],
   "source": [
    "# Apply chi-square test to verify the important catetgorical variable\n",
    "feats=[]\n",
    "for i in cat_cols:\n",
    "    tbl=pd.crosstab(combined.loc[:,i],combined.y_bool)\n",
    "    teststats,pvalue,df,exp_freq=stats.chi2_contingency(tbl)\n",
    "    if pvalue<0.05:\n",
    "        feats.append(i)\n",
    "print(feats)"
   ]
  },
  {
   "cell_type": "markdown",
   "id": "e273c15a",
   "metadata": {},
   "source": [
    "Therefore job is the important feature that affects the target variable."
   ]
  },
  {
   "cell_type": "code",
   "execution_count": 58,
   "id": "25592464",
   "metadata": {},
   "outputs": [
    {
     "data": {
      "text/plain": [
       "Index(['age', 'balance', 'day', 'duration', 'campaign', 'pdays', 'previous',\n",
       "       'y_bool'],\n",
       "      dtype='object')"
      ]
     },
     "execution_count": 58,
     "metadata": {},
     "output_type": "execute_result"
    }
   ],
   "source": [
    "# List of numeric variables\n",
    "num_cols=combined.select_dtypes(include=[np.number]).columns\n",
    "num_cols"
   ]
  },
  {
   "cell_type": "code",
   "execution_count": 61,
   "id": "30a2ade7",
   "metadata": {},
   "outputs": [
    {
     "data": {
      "image/png": "[encoded data removed]",
      "text/plain": [
       "<Figure size 720x432 with 8 Axes>"
      ]
     },
     "metadata": {
      "needs_background": "light"
     },
     "output_type": "display_data"
    }
   ],
   "source": [
    "nrows=4\n",
    "ncols=2\n",
    "iterator=1\n",
    "for i in num_cols:\n",
    "    plt.subplot(nrows,ncols,iterator)\n",
    "    sns.distplot(combined.loc[:,i])\n",
    "    plt.title(i)\n",
    "    iterator=iterator+1\n",
    "plt.tight_layout()\n",
    "plt.show()"
   ]
  },
  {
   "cell_type": "markdown",
   "id": "f7803cbc",
   "metadata": {},
   "source": [
    "Since the data seems to be skewed we will use log transformation on the numerical variables only."
   ]
  },
  {
   "cell_type": "code",
   "execution_count": 63,
   "id": "ee6fcab9",
   "metadata": {},
   "outputs": [],
   "source": [
    "from sklearn.preprocessing import KBinsDiscretizer\n",
    "kbins=KBinsDiscretizer(n_bins=4,encode='ordinal',strategy='uniform')\n",
    "combined['Age_bins']=kbins.fit_transform(combined[['age']])"
   ]
  },
  {
   "cell_type": "code",
   "execution_count": 65,
   "id": "e5cfbe95",
   "metadata": {},
   "outputs": [
    {
     "name": "stdout",
     "output_type": "stream",
     "text": [
      "7.913095873130406e-10\n"
     ]
    }
   ],
   "source": [
    "tbl=pd.crosstab(combined.Age_bins,combined.y_bool)\n",
    "teststats,pvalue,df,exp_freq=stats.chi2_contingency(tbl)\n",
    "print(pvalue)"
   ]
  },
  {
   "cell_type": "markdown",
   "id": "56036152",
   "metadata": {},
   "source": [
    "Now, the Age column after binning has a significant effect on the target variable (y_bool)"
   ]
  },
  {
   "cell_type": "code",
   "execution_count": 64,
   "id": "bc64842d",
   "metadata": {},
   "outputs": [
    {
     "data": {
      "text/html": [
       "<div>\n",
       "<style scoped>\n",
       "    .dataframe tbody tr th:only-of-type {\n",
       "        vertical-align: middle;\n",
       "    }\n",
       "\n",
       "    .dataframe tbody tr th {\n",
       "        vertical-align: top;\n",
       "    }\n",
       "\n",
       "    .dataframe thead th {\n",
       "        text-align: right;\n",
       "    }\n",
       "</style>\n",
       "<table border=\"1\" class=\"dataframe\">\n",
       "  <thead>\n",
       "    <tr style=\"text-align: right;\">\n",
       "      <th></th>\n",
       "      <th>age</th>\n",
       "      <th>job</th>\n",
       "      <th>marital</th>\n",
       "      <th>education</th>\n",
       "      <th>default</th>\n",
       "      <th>balance</th>\n",
       "      <th>housing</th>\n",
       "      <th>loan</th>\n",
       "      <th>contact</th>\n",
       "      <th>day</th>\n",
       "      <th>month</th>\n",
       "      <th>duration</th>\n",
       "      <th>campaign</th>\n",
       "      <th>pdays</th>\n",
       "      <th>previous</th>\n",
       "      <th>poutcome</th>\n",
       "      <th>y_bool</th>\n",
       "      <th>profession</th>\n",
       "      <th>Age_bins</th>\n",
       "    </tr>\n",
       "  </thead>\n",
       "  <tbody>\n",
       "    <tr>\n",
       "      <th>0</th>\n",
       "      <td>51</td>\n",
       "      <td>admin.</td>\n",
       "      <td>married</td>\n",
       "      <td>tertiary</td>\n",
       "      <td>no</td>\n",
       "      <td>148</td>\n",
       "      <td>no</td>\n",
       "      <td>no</td>\n",
       "      <td>cellular</td>\n",
       "      <td>15</td>\n",
       "      <td>apr</td>\n",
       "      <td>263</td>\n",
       "      <td>2</td>\n",
       "      <td>-1</td>\n",
       "      <td>0</td>\n",
       "      <td>unknown</td>\n",
       "      <td>0.0</td>\n",
       "      <td>Employed</td>\n",
       "      <td>1.0</td>\n",
       "    </tr>\n",
       "    <tr>\n",
       "      <th>1</th>\n",
       "      <td>55</td>\n",
       "      <td>blue-collar</td>\n",
       "      <td>married</td>\n",
       "      <td>secondary</td>\n",
       "      <td>no</td>\n",
       "      <td>7160</td>\n",
       "      <td>yes</td>\n",
       "      <td>no</td>\n",
       "      <td>unknown</td>\n",
       "      <td>4</td>\n",
       "      <td>may</td>\n",
       "      <td>315</td>\n",
       "      <td>1</td>\n",
       "      <td>-1</td>\n",
       "      <td>0</td>\n",
       "      <td>unknown</td>\n",
       "      <td>0.0</td>\n",
       "      <td>blue_collar</td>\n",
       "      <td>2.0</td>\n",
       "    </tr>\n",
       "    <tr>\n",
       "      <th>2</th>\n",
       "      <td>65</td>\n",
       "      <td>blue-collar</td>\n",
       "      <td>divorced</td>\n",
       "      <td>tertiary</td>\n",
       "      <td>no</td>\n",
       "      <td>2197</td>\n",
       "      <td>yes</td>\n",
       "      <td>no</td>\n",
       "      <td>cellular</td>\n",
       "      <td>12</td>\n",
       "      <td>may</td>\n",
       "      <td>102</td>\n",
       "      <td>2</td>\n",
       "      <td>-1</td>\n",
       "      <td>0</td>\n",
       "      <td>unknown</td>\n",
       "      <td>0.0</td>\n",
       "      <td>blue_collar</td>\n",
       "      <td>2.0</td>\n",
       "    </tr>\n",
       "    <tr>\n",
       "      <th>3</th>\n",
       "      <td>25</td>\n",
       "      <td>admin.</td>\n",
       "      <td>married</td>\n",
       "      <td>secondary</td>\n",
       "      <td>no</td>\n",
       "      <td>6658</td>\n",
       "      <td>yes</td>\n",
       "      <td>no</td>\n",
       "      <td>cellular</td>\n",
       "      <td>16</td>\n",
       "      <td>feb</td>\n",
       "      <td>197</td>\n",
       "      <td>1</td>\n",
       "      <td>-1</td>\n",
       "      <td>0</td>\n",
       "      <td>unknown</td>\n",
       "      <td>1.0</td>\n",
       "      <td>Employed</td>\n",
       "      <td>0.0</td>\n",
       "    </tr>\n",
       "    <tr>\n",
       "      <th>4</th>\n",
       "      <td>36</td>\n",
       "      <td>services</td>\n",
       "      <td>married</td>\n",
       "      <td>secondary</td>\n",
       "      <td>no</td>\n",
       "      <td>1761</td>\n",
       "      <td>yes</td>\n",
       "      <td>no</td>\n",
       "      <td>cellular</td>\n",
       "      <td>19</td>\n",
       "      <td>sep</td>\n",
       "      <td>177</td>\n",
       "      <td>1</td>\n",
       "      <td>-1</td>\n",
       "      <td>0</td>\n",
       "      <td>success</td>\n",
       "      <td>0.0</td>\n",
       "      <td>blue_collar</td>\n",
       "      <td>1.0</td>\n",
       "    </tr>\n",
       "  </tbody>\n",
       "</table>\n",
       "</div>"
      ],
      "text/plain": [
       "   age          job   marital  education default  balance housing loan  \\\n",
       "0   51       admin.   married   tertiary      no      148      no   no   \n",
       "1   55  blue-collar   married  secondary      no     7160     yes   no   \n",
       "2   65  blue-collar  divorced   tertiary      no     2197     yes   no   \n",
       "3   25       admin.   married  secondary      no     6658     yes   no   \n",
       "4   36     services   married  secondary      no     1761     yes   no   \n",
       "\n",
       "    contact  day month  duration  campaign  pdays  previous poutcome  y_bool  \\\n",
       "0  cellular   15   apr       263         2     -1         0  unknown     0.0   \n",
       "1   unknown    4   may       315         1     -1         0  unknown     0.0   \n",
       "2  cellular   12   may       102         2     -1         0  unknown     0.0   \n",
       "3  cellular   16   feb       197         1     -1         0  unknown     1.0   \n",
       "4  cellular   19   sep       177         1     -1         0  success     0.0   \n",
       "\n",
       "    profession  Age_bins  \n",
       "0     Employed       1.0  \n",
       "1  blue_collar       2.0  \n",
       "2  blue_collar       2.0  \n",
       "3     Employed       0.0  \n",
       "4  blue_collar       1.0  "
      ]
     },
     "execution_count": 64,
     "metadata": {},
     "output_type": "execute_result"
    }
   ],
   "source": [
    "combined.head()"
   ]
  },
  {
   "cell_type": "code",
   "execution_count": 69,
   "id": "74f8acd5",
   "metadata": {},
   "outputs": [
    {
     "data": {
      "text/plain": [
       "array([array([19., 36., 53., 70., 87.])], dtype=object)"
      ]
     },
     "execution_count": 69,
     "metadata": {},
     "output_type": "execute_result"
    }
   ],
   "source": [
    "kbins.bin_edges_"
   ]
  },
  {
   "cell_type": "code",
   "execution_count": 68,
   "id": "16f238e0",
   "metadata": {},
   "outputs": [
    {
     "data": {
      "text/plain": [
       "dtype('float64')"
      ]
     },
     "execution_count": 68,
     "metadata": {},
     "output_type": "execute_result"
    }
   ],
   "source": [
    "combined.Age_bins.dtypes"
   ]
  },
  {
   "cell_type": "code",
   "execution_count": 70,
   "id": "b2fa27ed",
   "metadata": {},
   "outputs": [],
   "source": [
    "def bins(x):\n",
    "    if(x<=19):\n",
    "        return('Teens')\n",
    "    elif(x<=36):\n",
    "        return('Adults')\n",
    "    elif(x<=53):\n",
    "        return('Mature')\n",
    "    else:\n",
    "        return('Senior')  "
   ]
  },
  {
   "cell_type": "code",
   "execution_count": 71,
   "id": "3ed5fcd1",
   "metadata": {},
   "outputs": [],
   "source": [
    "# Apply\n",
    "combined['age_cat']=combined.age.apply(bins)"
   ]
  },
  {
   "cell_type": "code",
   "execution_count": 72,
   "id": "edb03bb6",
   "metadata": {},
   "outputs": [
    {
     "name": "stdout",
     "output_type": "stream",
     "text": [
      "3.1639967525897536e-11\n"
     ]
    }
   ],
   "source": [
    "tbl=pd.crosstab(combined.age_cat,combined.y_bool)\n",
    "teststats,pvalue,df,exp_freq=stats.chi2_contingency(tbl)\n",
    "print(pvalue)"
   ]
  },
  {
   "cell_type": "markdown",
   "id": "bf591313",
   "metadata": {},
   "source": [
    "Now, the Age column after binning manually has a significant effect on the target variable (y_bool)\n"
   ]
  },
  {
   "cell_type": "code",
   "execution_count": 74,
   "id": "53ae8ea2",
   "metadata": {},
   "outputs": [
    {
     "data": {
      "text/plain": [
       "count    30000.000000\n",
       "mean      1608.013900\n",
       "std       2989.866596\n",
       "min      -2477.000000\n",
       "25%        303.000000\n",
       "50%        634.000000\n",
       "75%       1880.000000\n",
       "max      71188.000000\n",
       "Name: balance, dtype: float64"
      ]
     },
     "execution_count": 74,
     "metadata": {},
     "output_type": "execute_result"
    }
   ],
   "source": [
    "combined.balance.describe()"
   ]
  },
  {
   "cell_type": "code",
   "execution_count": 76,
   "id": "e5c9fc5d",
   "metadata": {},
   "outputs": [],
   "source": [
    "# Convert negative bank balance to zero.\n",
    "def balanced(x):\n",
    "    if x<0:\n",
    "        return(0)\n",
    "    else:\n",
    "        return(x)"
   ]
  },
  {
   "cell_type": "code",
   "execution_count": 77,
   "id": "5bac459b",
   "metadata": {},
   "outputs": [
    {
     "data": {
      "text/plain": [
       "count    30000.000000\n",
       "mean      1626.014067\n",
       "std       2978.325577\n",
       "min          0.000000\n",
       "25%        303.000000\n",
       "50%        634.000000\n",
       "75%       1880.000000\n",
       "max      71188.000000\n",
       "Name: balance, dtype: float64"
      ]
     },
     "execution_count": 77,
     "metadata": {},
     "output_type": "execute_result"
    }
   ],
   "source": [
    "combined.balance=combined.balance.apply(balanced)\n",
    "combined.balance.describe()"
   ]
  },
  {
   "cell_type": "code",
   "execution_count": 79,
   "id": "566da672",
   "metadata": {},
   "outputs": [
    {
     "data": {
      "text/plain": [
       "array([array([    0. ,   236. ,   492. ,  1078.4,  2199. , 71188. ])],\n",
       "      dtype=object)"
      ]
     },
     "execution_count": 79,
     "metadata": {},
     "output_type": "execute_result"
    }
   ],
   "source": [
    "# Lets make number of bins as 5\n",
    "kbins=KBinsDiscretizer(n_bins=5,encode='ordinal',strategy='quantile')\n",
    "combined['balance_bins']=kbins.fit_transform(combined[['balance']])\n",
    "kbins.bin_edges_"
   ]
  },
  {
   "cell_type": "code",
   "execution_count": 84,
   "id": "9f4f470b",
   "metadata": {},
   "outputs": [
    {
     "data": {
      "text/html": [
       "<div>\n",
       "<style scoped>\n",
       "    .dataframe tbody tr th:only-of-type {\n",
       "        vertical-align: middle;\n",
       "    }\n",
       "\n",
       "    .dataframe tbody tr th {\n",
       "        vertical-align: top;\n",
       "    }\n",
       "\n",
       "    .dataframe thead th {\n",
       "        text-align: right;\n",
       "    }\n",
       "</style>\n",
       "<table border=\"1\" class=\"dataframe\">\n",
       "  <thead>\n",
       "    <tr style=\"text-align: right;\">\n",
       "      <th></th>\n",
       "      <th>age</th>\n",
       "      <th>job</th>\n",
       "      <th>marital</th>\n",
       "      <th>education</th>\n",
       "      <th>default</th>\n",
       "      <th>balance</th>\n",
       "      <th>housing</th>\n",
       "      <th>loan</th>\n",
       "      <th>contact</th>\n",
       "      <th>day</th>\n",
       "      <th>month</th>\n",
       "      <th>duration</th>\n",
       "      <th>campaign</th>\n",
       "      <th>pdays</th>\n",
       "      <th>previous</th>\n",
       "      <th>poutcome</th>\n",
       "      <th>y_bool</th>\n",
       "      <th>profession</th>\n",
       "      <th>Age_bins</th>\n",
       "      <th>age_cat</th>\n",
       "      <th>balance_bins</th>\n",
       "    </tr>\n",
       "  </thead>\n",
       "  <tbody>\n",
       "    <tr>\n",
       "      <th>0</th>\n",
       "      <td>51</td>\n",
       "      <td>admin.</td>\n",
       "      <td>married</td>\n",
       "      <td>tertiary</td>\n",
       "      <td>no</td>\n",
       "      <td>148</td>\n",
       "      <td>no</td>\n",
       "      <td>no</td>\n",
       "      <td>cellular</td>\n",
       "      <td>15</td>\n",
       "      <td>apr</td>\n",
       "      <td>263</td>\n",
       "      <td>2</td>\n",
       "      <td>-1</td>\n",
       "      <td>0</td>\n",
       "      <td>unknown</td>\n",
       "      <td>0.0</td>\n",
       "      <td>Employed</td>\n",
       "      <td>1.0</td>\n",
       "      <td>Mature</td>\n",
       "      <td>0.0</td>\n",
       "    </tr>\n",
       "    <tr>\n",
       "      <th>1</th>\n",
       "      <td>55</td>\n",
       "      <td>blue-collar</td>\n",
       "      <td>married</td>\n",
       "      <td>secondary</td>\n",
       "      <td>no</td>\n",
       "      <td>7160</td>\n",
       "      <td>yes</td>\n",
       "      <td>no</td>\n",
       "      <td>unknown</td>\n",
       "      <td>4</td>\n",
       "      <td>may</td>\n",
       "      <td>315</td>\n",
       "      <td>1</td>\n",
       "      <td>-1</td>\n",
       "      <td>0</td>\n",
       "      <td>unknown</td>\n",
       "      <td>0.0</td>\n",
       "      <td>blue_collar</td>\n",
       "      <td>2.0</td>\n",
       "      <td>Senior</td>\n",
       "      <td>4.0</td>\n",
       "    </tr>\n",
       "  </tbody>\n",
       "</table>\n",
       "</div>"
      ],
      "text/plain": [
       "   age          job  marital  education default  balance housing loan  \\\n",
       "0   51       admin.  married   tertiary      no      148      no   no   \n",
       "1   55  blue-collar  married  secondary      no     7160     yes   no   \n",
       "\n",
       "    contact  day month  duration  campaign  pdays  previous poutcome  y_bool  \\\n",
       "0  cellular   15   apr       263         2     -1         0  unknown     0.0   \n",
       "1   unknown    4   may       315         1     -1         0  unknown     0.0   \n",
       "\n",
       "    profession  Age_bins age_cat  balance_bins  \n",
       "0     Employed       1.0  Mature           0.0  \n",
       "1  blue_collar       2.0  Senior           4.0  "
      ]
     },
     "execution_count": 84,
     "metadata": {},
     "output_type": "execute_result"
    }
   ],
   "source": [
    "combined.head(2)"
   ]
  },
  {
   "cell_type": "code",
   "execution_count": 85,
   "id": "f3c5523e",
   "metadata": {},
   "outputs": [
    {
     "name": "stdout",
     "output_type": "stream",
     "text": [
      "0.0008745599667551404\n"
     ]
    }
   ],
   "source": [
    "tbl=pd.crosstab(combined.balance_bins,combined.y_bool)\n",
    "teststats,pvalue,df,exp_freq=stats.chi2_contingency(tbl)\n",
    "print(pvalue)"
   ]
  },
  {
   "cell_type": "markdown",
   "id": "611ebc08",
   "metadata": {},
   "source": [
    "Now, the balance column after binning manually has a significant effect on the target variable (y_bool)"
   ]
  },
  {
   "cell_type": "code",
   "execution_count": 83,
   "id": "2a10148c",
   "metadata": {},
   "outputs": [],
   "source": [
    "pd.set_option('display.max_columns',500)"
   ]
  },
  {
   "cell_type": "code",
   "execution_count": 87,
   "id": "a7ffb6e9",
   "metadata": {},
   "outputs": [
    {
     "data": {
      "text/plain": [
       "count    30000.000000\n",
       "mean         4.379814\n",
       "std          4.764683\n",
       "min          0.066667\n",
       "25%          1.566667\n",
       "50%          3.050000\n",
       "75%          5.300000\n",
       "max         45.050000\n",
       "Name: duration, dtype: float64"
      ]
     },
     "execution_count": 87,
     "metadata": {},
     "output_type": "execute_result"
    }
   ],
   "source": [
    "# Duration column\n",
    "combined['duration']=combined.duration/60\n",
    "combined.duration.describe()"
   ]
  },
  {
   "cell_type": "code",
   "execution_count": 89,
   "id": "5e9027bb",
   "metadata": {},
   "outputs": [
    {
     "data": {
      "text/plain": [
       "array([array([ 0.06666667, 11.3125    , 22.55833333, 33.80416667, 45.05      ])],\n",
       "      dtype=object)"
      ]
     },
     "execution_count": 89,
     "metadata": {},
     "output_type": "execute_result"
    }
   ],
   "source": [
    "# Lets make number of bins as 5\n",
    "kbins=KBinsDiscretizer(n_bins=4,encode='onehot',strategy='uniform')\n",
    "kbins.fit_transform(combined[['duration']])\n",
    "kbins.bin_edges_"
   ]
  },
  {
   "cell_type": "code",
   "execution_count": 91,
   "id": "53f62491",
   "metadata": {},
   "outputs": [],
   "source": [
    "# Drop the variables\n",
    "newdata=combined.drop(['contact','job'],axis=1)"
   ]
  },
  {
   "cell_type": "code",
   "execution_count": 94,
   "id": "e1269636",
   "metadata": {},
   "outputs": [
    {
     "data": {
      "text/html": [
       "<div>\n",
       "<style scoped>\n",
       "    .dataframe tbody tr th:only-of-type {\n",
       "        vertical-align: middle;\n",
       "    }\n",
       "\n",
       "    .dataframe tbody tr th {\n",
       "        vertical-align: top;\n",
       "    }\n",
       "\n",
       "    .dataframe thead th {\n",
       "        text-align: right;\n",
       "    }\n",
       "</style>\n",
       "<table border=\"1\" class=\"dataframe\">\n",
       "  <thead>\n",
       "    <tr style=\"text-align: right;\">\n",
       "      <th></th>\n",
       "      <th>age</th>\n",
       "      <th>marital</th>\n",
       "      <th>education</th>\n",
       "      <th>default</th>\n",
       "      <th>balance</th>\n",
       "      <th>housing</th>\n",
       "      <th>loan</th>\n",
       "      <th>day</th>\n",
       "      <th>month</th>\n",
       "      <th>duration</th>\n",
       "      <th>campaign</th>\n",
       "      <th>pdays</th>\n",
       "      <th>previous</th>\n",
       "      <th>poutcome</th>\n",
       "      <th>y_bool</th>\n",
       "      <th>profession</th>\n",
       "      <th>Age_bins</th>\n",
       "      <th>age_cat</th>\n",
       "      <th>balance_bins</th>\n",
       "    </tr>\n",
       "  </thead>\n",
       "  <tbody>\n",
       "    <tr>\n",
       "      <th>0</th>\n",
       "      <td>51</td>\n",
       "      <td>married</td>\n",
       "      <td>tertiary</td>\n",
       "      <td>no</td>\n",
       "      <td>148</td>\n",
       "      <td>no</td>\n",
       "      <td>no</td>\n",
       "      <td>15</td>\n",
       "      <td>apr</td>\n",
       "      <td>4.383333</td>\n",
       "      <td>2</td>\n",
       "      <td>-1</td>\n",
       "      <td>0</td>\n",
       "      <td>unknown</td>\n",
       "      <td>0.0</td>\n",
       "      <td>Employed</td>\n",
       "      <td>1.0</td>\n",
       "      <td>Mature</td>\n",
       "      <td>0.0</td>\n",
       "    </tr>\n",
       "    <tr>\n",
       "      <th>1</th>\n",
       "      <td>55</td>\n",
       "      <td>married</td>\n",
       "      <td>secondary</td>\n",
       "      <td>no</td>\n",
       "      <td>7160</td>\n",
       "      <td>yes</td>\n",
       "      <td>no</td>\n",
       "      <td>4</td>\n",
       "      <td>may</td>\n",
       "      <td>5.250000</td>\n",
       "      <td>1</td>\n",
       "      <td>-1</td>\n",
       "      <td>0</td>\n",
       "      <td>unknown</td>\n",
       "      <td>0.0</td>\n",
       "      <td>blue_collar</td>\n",
       "      <td>2.0</td>\n",
       "      <td>Senior</td>\n",
       "      <td>4.0</td>\n",
       "    </tr>\n",
       "    <tr>\n",
       "      <th>2</th>\n",
       "      <td>65</td>\n",
       "      <td>divorced</td>\n",
       "      <td>tertiary</td>\n",
       "      <td>no</td>\n",
       "      <td>2197</td>\n",
       "      <td>yes</td>\n",
       "      <td>no</td>\n",
       "      <td>12</td>\n",
       "      <td>may</td>\n",
       "      <td>1.700000</td>\n",
       "      <td>2</td>\n",
       "      <td>-1</td>\n",
       "      <td>0</td>\n",
       "      <td>unknown</td>\n",
       "      <td>0.0</td>\n",
       "      <td>blue_collar</td>\n",
       "      <td>2.0</td>\n",
       "      <td>Senior</td>\n",
       "      <td>3.0</td>\n",
       "    </tr>\n",
       "    <tr>\n",
       "      <th>3</th>\n",
       "      <td>25</td>\n",
       "      <td>married</td>\n",
       "      <td>secondary</td>\n",
       "      <td>no</td>\n",
       "      <td>6658</td>\n",
       "      <td>yes</td>\n",
       "      <td>no</td>\n",
       "      <td>16</td>\n",
       "      <td>feb</td>\n",
       "      <td>3.283333</td>\n",
       "      <td>1</td>\n",
       "      <td>-1</td>\n",
       "      <td>0</td>\n",
       "      <td>unknown</td>\n",
       "      <td>1.0</td>\n",
       "      <td>Employed</td>\n",
       "      <td>0.0</td>\n",
       "      <td>Adults</td>\n",
       "      <td>4.0</td>\n",
       "    </tr>\n",
       "    <tr>\n",
       "      <th>4</th>\n",
       "      <td>36</td>\n",
       "      <td>married</td>\n",
       "      <td>secondary</td>\n",
       "      <td>no</td>\n",
       "      <td>1761</td>\n",
       "      <td>yes</td>\n",
       "      <td>no</td>\n",
       "      <td>19</td>\n",
       "      <td>sep</td>\n",
       "      <td>2.950000</td>\n",
       "      <td>1</td>\n",
       "      <td>-1</td>\n",
       "      <td>0</td>\n",
       "      <td>success</td>\n",
       "      <td>0.0</td>\n",
       "      <td>blue_collar</td>\n",
       "      <td>1.0</td>\n",
       "      <td>Adults</td>\n",
       "      <td>3.0</td>\n",
       "    </tr>\n",
       "  </tbody>\n",
       "</table>\n",
       "</div>"
      ],
      "text/plain": [
       "   age   marital  education default  balance housing loan  day month  \\\n",
       "0   51   married   tertiary      no      148      no   no   15   apr   \n",
       "1   55   married  secondary      no     7160     yes   no    4   may   \n",
       "2   65  divorced   tertiary      no     2197     yes   no   12   may   \n",
       "3   25   married  secondary      no     6658     yes   no   16   feb   \n",
       "4   36   married  secondary      no     1761     yes   no   19   sep   \n",
       "\n",
       "   duration  campaign  pdays  previous poutcome  y_bool   profession  \\\n",
       "0  4.383333         2     -1         0  unknown     0.0     Employed   \n",
       "1  5.250000         1     -1         0  unknown     0.0  blue_collar   \n",
       "2  1.700000         2     -1         0  unknown     0.0  blue_collar   \n",
       "3  3.283333         1     -1         0  unknown     1.0     Employed   \n",
       "4  2.950000         1     -1         0  success     0.0  blue_collar   \n",
       "\n",
       "   Age_bins age_cat  balance_bins  \n",
       "0       1.0  Mature           0.0  \n",
       "1       2.0  Senior           4.0  \n",
       "2       2.0  Senior           3.0  \n",
       "3       0.0  Adults           4.0  \n",
       "4       1.0  Adults           3.0  "
      ]
     },
     "execution_count": 94,
     "metadata": {},
     "output_type": "execute_result"
    }
   ],
   "source": [
    "newdata.head()"
   ]
  },
  {
   "cell_type": "code",
   "execution_count": 101,
   "id": "64e27a47",
   "metadata": {},
   "outputs": [
    {
     "data": {
      "text/plain": [
       "<AxesSubplot:xlabel='y_bool,month'>"
      ]
     },
     "execution_count": 101,
     "metadata": {},
     "output_type": "execute_result"
    },
    {
     "data": {
      "image/png": "[encoded data removed]",
      "text/plain": [
       "<Figure size 720x432 with 1 Axes>"
      ]
     },
     "metadata": {
      "needs_background": "light"
     },
     "output_type": "display_data"
    }
   ],
   "source": [
    "# Month vs Target\n",
    "newdata.groupby('y_bool')['month'].value_counts().plot(kind='bar')"
   ]
  },
  {
   "cell_type": "code",
   "execution_count": 108,
   "id": "5bffe5ce",
   "metadata": {},
   "outputs": [],
   "source": [
    "def months(x):\n",
    "    if x in ['oct','nov','dec']:\n",
    "        return('q4')\n",
    "    elif x in ['apr','may','jun']:\n",
    "        return('q2')\n",
    "    elif x in ['jan','feb','mar']:\n",
    "        return('q1')\n",
    "    else:\n",
    "        return('q3')"
   ]
  },
  {
   "cell_type": "code",
   "execution_count": 109,
   "id": "ba54402f",
   "metadata": {},
   "outputs": [],
   "source": [
    "newdata['month_cat']=newdata.month.apply(months)"
   ]
  },
  {
   "cell_type": "code",
   "execution_count": 110,
   "id": "d3c741b0",
   "metadata": {},
   "outputs": [
    {
     "data": {
      "text/html": [
       "<div>\n",
       "<style scoped>\n",
       "    .dataframe tbody tr th:only-of-type {\n",
       "        vertical-align: middle;\n",
       "    }\n",
       "\n",
       "    .dataframe tbody tr th {\n",
       "        vertical-align: top;\n",
       "    }\n",
       "\n",
       "    .dataframe thead th {\n",
       "        text-align: right;\n",
       "    }\n",
       "</style>\n",
       "<table border=\"1\" class=\"dataframe\">\n",
       "  <thead>\n",
       "    <tr style=\"text-align: right;\">\n",
       "      <th></th>\n",
       "      <th>age</th>\n",
       "      <th>marital</th>\n",
       "      <th>education</th>\n",
       "      <th>default</th>\n",
       "      <th>balance</th>\n",
       "      <th>housing</th>\n",
       "      <th>loan</th>\n",
       "      <th>day</th>\n",
       "      <th>month</th>\n",
       "      <th>duration</th>\n",
       "      <th>campaign</th>\n",
       "      <th>pdays</th>\n",
       "      <th>previous</th>\n",
       "      <th>poutcome</th>\n",
       "      <th>y_bool</th>\n",
       "      <th>profession</th>\n",
       "      <th>Age_bins</th>\n",
       "      <th>age_cat</th>\n",
       "      <th>balance_bins</th>\n",
       "      <th>month_cat</th>\n",
       "    </tr>\n",
       "  </thead>\n",
       "  <tbody>\n",
       "    <tr>\n",
       "      <th>0</th>\n",
       "      <td>51</td>\n",
       "      <td>married</td>\n",
       "      <td>tertiary</td>\n",
       "      <td>no</td>\n",
       "      <td>148</td>\n",
       "      <td>no</td>\n",
       "      <td>no</td>\n",
       "      <td>15</td>\n",
       "      <td>apr</td>\n",
       "      <td>4.383333</td>\n",
       "      <td>2</td>\n",
       "      <td>-1</td>\n",
       "      <td>0</td>\n",
       "      <td>unknown</td>\n",
       "      <td>0.0</td>\n",
       "      <td>Employed</td>\n",
       "      <td>1.0</td>\n",
       "      <td>Mature</td>\n",
       "      <td>0.0</td>\n",
       "      <td>q2</td>\n",
       "    </tr>\n",
       "    <tr>\n",
       "      <th>1</th>\n",
       "      <td>55</td>\n",
       "      <td>married</td>\n",
       "      <td>secondary</td>\n",
       "      <td>no</td>\n",
       "      <td>7160</td>\n",
       "      <td>yes</td>\n",
       "      <td>no</td>\n",
       "      <td>4</td>\n",
       "      <td>may</td>\n",
       "      <td>5.250000</td>\n",
       "      <td>1</td>\n",
       "      <td>-1</td>\n",
       "      <td>0</td>\n",
       "      <td>unknown</td>\n",
       "      <td>0.0</td>\n",
       "      <td>blue_collar</td>\n",
       "      <td>2.0</td>\n",
       "      <td>Senior</td>\n",
       "      <td>4.0</td>\n",
       "      <td>q2</td>\n",
       "    </tr>\n",
       "    <tr>\n",
       "      <th>2</th>\n",
       "      <td>65</td>\n",
       "      <td>divorced</td>\n",
       "      <td>tertiary</td>\n",
       "      <td>no</td>\n",
       "      <td>2197</td>\n",
       "      <td>yes</td>\n",
       "      <td>no</td>\n",
       "      <td>12</td>\n",
       "      <td>may</td>\n",
       "      <td>1.700000</td>\n",
       "      <td>2</td>\n",
       "      <td>-1</td>\n",
       "      <td>0</td>\n",
       "      <td>unknown</td>\n",
       "      <td>0.0</td>\n",
       "      <td>blue_collar</td>\n",
       "      <td>2.0</td>\n",
       "      <td>Senior</td>\n",
       "      <td>3.0</td>\n",
       "      <td>q2</td>\n",
       "    </tr>\n",
       "    <tr>\n",
       "      <th>3</th>\n",
       "      <td>25</td>\n",
       "      <td>married</td>\n",
       "      <td>secondary</td>\n",
       "      <td>no</td>\n",
       "      <td>6658</td>\n",
       "      <td>yes</td>\n",
       "      <td>no</td>\n",
       "      <td>16</td>\n",
       "      <td>feb</td>\n",
       "      <td>3.283333</td>\n",
       "      <td>1</td>\n",
       "      <td>-1</td>\n",
       "      <td>0</td>\n",
       "      <td>unknown</td>\n",
       "      <td>1.0</td>\n",
       "      <td>Employed</td>\n",
       "      <td>0.0</td>\n",
       "      <td>Adults</td>\n",
       "      <td>4.0</td>\n",
       "      <td>q1</td>\n",
       "    </tr>\n",
       "    <tr>\n",
       "      <th>4</th>\n",
       "      <td>36</td>\n",
       "      <td>married</td>\n",
       "      <td>secondary</td>\n",
       "      <td>no</td>\n",
       "      <td>1761</td>\n",
       "      <td>yes</td>\n",
       "      <td>no</td>\n",
       "      <td>19</td>\n",
       "      <td>sep</td>\n",
       "      <td>2.950000</td>\n",
       "      <td>1</td>\n",
       "      <td>-1</td>\n",
       "      <td>0</td>\n",
       "      <td>success</td>\n",
       "      <td>0.0</td>\n",
       "      <td>blue_collar</td>\n",
       "      <td>1.0</td>\n",
       "      <td>Adults</td>\n",
       "      <td>3.0</td>\n",
       "      <td>q3</td>\n",
       "    </tr>\n",
       "  </tbody>\n",
       "</table>\n",
       "</div>"
      ],
      "text/plain": [
       "   age   marital  education default  balance housing loan  day month  \\\n",
       "0   51   married   tertiary      no      148      no   no   15   apr   \n",
       "1   55   married  secondary      no     7160     yes   no    4   may   \n",
       "2   65  divorced   tertiary      no     2197     yes   no   12   may   \n",
       "3   25   married  secondary      no     6658     yes   no   16   feb   \n",
       "4   36   married  secondary      no     1761     yes   no   19   sep   \n",
       "\n",
       "   duration  campaign  pdays  previous poutcome  y_bool   profession  \\\n",
       "0  4.383333         2     -1         0  unknown     0.0     Employed   \n",
       "1  5.250000         1     -1         0  unknown     0.0  blue_collar   \n",
       "2  1.700000         2     -1         0  unknown     0.0  blue_collar   \n",
       "3  3.283333         1     -1         0  unknown     1.0     Employed   \n",
       "4  2.950000         1     -1         0  success     0.0  blue_collar   \n",
       "\n",
       "   Age_bins age_cat  balance_bins month_cat  \n",
       "0       1.0  Mature           0.0        q2  \n",
       "1       2.0  Senior           4.0        q2  \n",
       "2       2.0  Senior           3.0        q2  \n",
       "3       0.0  Adults           4.0        q1  \n",
       "4       1.0  Adults           3.0        q3  "
      ]
     },
     "execution_count": 110,
     "metadata": {},
     "output_type": "execute_result"
    }
   ],
   "source": [
    "newdata.head()"
   ]
  },
  {
   "cell_type": "code",
   "execution_count": 111,
   "id": "31a33a25",
   "metadata": {},
   "outputs": [
    {
     "name": "stdout",
     "output_type": "stream",
     "text": [
      "0.04597093223395938\n"
     ]
    }
   ],
   "source": [
    "tbl=pd.crosstab(newdata.month_cat,newdata.y_bool)\n",
    "teststats,pvalue,df,exp_freq=stats.chi2_contingency(tbl)\n",
    "print(pvalue)"
   ]
  },
  {
   "cell_type": "markdown",
   "id": "9deed06f",
   "metadata": {},
   "source": [
    "Therefore month variable after binning it into quarters is having a significant effect on the target variable"
   ]
  },
  {
   "cell_type": "code",
   "execution_count": 112,
   "id": "256f54d1",
   "metadata": {},
   "outputs": [
    {
     "data": {
      "text/plain": [
       "(30000, 20)"
      ]
     },
     "execution_count": 112,
     "metadata": {},
     "output_type": "execute_result"
    }
   ],
   "source": [
    "newdata.shape"
   ]
  },
  {
   "cell_type": "code",
   "execution_count": 113,
   "id": "dd8d163d",
   "metadata": {},
   "outputs": [],
   "source": [
    "# Dropping age and month\n",
    "newdata=newdata.drop(['day','month'],axis=1)"
   ]
  },
  {
   "cell_type": "code",
   "execution_count": 116,
   "id": "fee498c3",
   "metadata": {},
   "outputs": [],
   "source": [
    "# Split the data into train and test\n",
    "newtrain=newdata.loc[0:train.shape[0]-1,:]\n",
    "newtest=newdata.loc[train.shape[0]:,:]\n",
    "newtest=newtest.drop('y_bool',axis=1)"
   ]
  },
  {
   "cell_type": "code",
   "execution_count": 124,
   "id": "f01f47e5",
   "metadata": {},
   "outputs": [
    {
     "data": {
      "text/html": [
       "<div>\n",
       "<style scoped>\n",
       "    .dataframe tbody tr th:only-of-type {\n",
       "        vertical-align: middle;\n",
       "    }\n",
       "\n",
       "    .dataframe tbody tr th {\n",
       "        vertical-align: top;\n",
       "    }\n",
       "\n",
       "    .dataframe thead th {\n",
       "        text-align: right;\n",
       "    }\n",
       "</style>\n",
       "<table border=\"1\" class=\"dataframe\">\n",
       "  <thead>\n",
       "    <tr style=\"text-align: right;\">\n",
       "      <th></th>\n",
       "      <th>age</th>\n",
       "      <th>marital</th>\n",
       "      <th>education</th>\n",
       "      <th>default</th>\n",
       "      <th>balance</th>\n",
       "      <th>housing</th>\n",
       "      <th>loan</th>\n",
       "      <th>duration</th>\n",
       "      <th>campaign</th>\n",
       "      <th>pdays</th>\n",
       "      <th>previous</th>\n",
       "      <th>poutcome</th>\n",
       "      <th>y_bool</th>\n",
       "      <th>profession</th>\n",
       "      <th>Age_bins</th>\n",
       "      <th>age_cat</th>\n",
       "      <th>balance_bins</th>\n",
       "      <th>month_cat</th>\n",
       "    </tr>\n",
       "  </thead>\n",
       "  <tbody>\n",
       "    <tr>\n",
       "      <th>0</th>\n",
       "      <td>51</td>\n",
       "      <td>married</td>\n",
       "      <td>tertiary</td>\n",
       "      <td>no</td>\n",
       "      <td>148</td>\n",
       "      <td>no</td>\n",
       "      <td>no</td>\n",
       "      <td>4.383333</td>\n",
       "      <td>2</td>\n",
       "      <td>-1</td>\n",
       "      <td>0</td>\n",
       "      <td>unknown</td>\n",
       "      <td>0</td>\n",
       "      <td>Employed</td>\n",
       "      <td>1.0</td>\n",
       "      <td>Mature</td>\n",
       "      <td>0.0</td>\n",
       "      <td>q2</td>\n",
       "    </tr>\n",
       "    <tr>\n",
       "      <th>1</th>\n",
       "      <td>55</td>\n",
       "      <td>married</td>\n",
       "      <td>secondary</td>\n",
       "      <td>no</td>\n",
       "      <td>7160</td>\n",
       "      <td>yes</td>\n",
       "      <td>no</td>\n",
       "      <td>5.250000</td>\n",
       "      <td>1</td>\n",
       "      <td>-1</td>\n",
       "      <td>0</td>\n",
       "      <td>unknown</td>\n",
       "      <td>0</td>\n",
       "      <td>blue_collar</td>\n",
       "      <td>2.0</td>\n",
       "      <td>Senior</td>\n",
       "      <td>4.0</td>\n",
       "      <td>q2</td>\n",
       "    </tr>\n",
       "  </tbody>\n",
       "</table>\n",
       "</div>"
      ],
      "text/plain": [
       "   age  marital  education default  balance housing loan  duration  campaign  \\\n",
       "0   51  married   tertiary      no      148      no   no  4.383333         2   \n",
       "1   55  married  secondary      no     7160     yes   no  5.250000         1   \n",
       "\n",
       "   pdays  previous poutcome  y_bool   profession  Age_bins age_cat  \\\n",
       "0     -1         0  unknown       0     Employed       1.0  Mature   \n",
       "1     -1         0  unknown       0  blue_collar       2.0  Senior   \n",
       "\n",
       "   balance_bins month_cat  \n",
       "0           0.0        q2  \n",
       "1           4.0        q2  "
      ]
     },
     "execution_count": 124,
     "metadata": {},
     "output_type": "execute_result"
    }
   ],
   "source": [
    "newtrain.head(2)"
   ]
  },
  {
   "cell_type": "code",
   "execution_count": 125,
   "id": "01e6bbe2",
   "metadata": {},
   "outputs": [],
   "source": [
    "# Convert target into integer\n",
    "newtrain[\"Age_bins\"] = newtrain.Age_bins.astype(int)\n",
    "newtrain[\"balance_bins\"] = newtrain.balance_bins.astype(int)\n",
    "newtrain[\"y_bool\"] = newtrain.y_bool.astype(int)"
   ]
  },
  {
   "cell_type": "code",
   "execution_count": 132,
   "id": "af269f03",
   "metadata": {},
   "outputs": [],
   "source": [
    "newtest[\"Age_bins\"] = newtest.Age_bins.astype(int)\n",
    "newtest[\"balance_bins\"] = newtest.balance_bins.astype(int)"
   ]
  },
  {
   "cell_type": "code",
   "execution_count": 120,
   "id": "528221a8",
   "metadata": {},
   "outputs": [
    {
     "data": {
      "text/plain": [
       "((21000, 18), (9000, 17), (21000, 17), (9000, 16))"
      ]
     },
     "execution_count": 120,
     "metadata": {},
     "output_type": "execute_result"
    }
   ],
   "source": [
    "newtrain.shape,newtest.shape,train.shape,test.shape"
   ]
  },
  {
   "cell_type": "markdown",
   "id": "355f74ee",
   "metadata": {},
   "source": [
    "# Modelling"
   ]
  },
  {
   "cell_type": "code",
   "execution_count": 133,
   "id": "392ae9ab",
   "metadata": {},
   "outputs": [],
   "source": [
    "dummytrain=pd.get_dummies(newtrain,drop_first=True)\n",
    "dummytest=pd.get_dummies(newtest,drop_first=True)"
   ]
  },
  {
   "cell_type": "code",
   "execution_count": 134,
   "id": "33b409d9",
   "metadata": {},
   "outputs": [],
   "source": [
    "X=dummytrain.drop('y_bool',axis=1)\n",
    "y=dummytrain.y_bool"
   ]
  },
  {
   "cell_type": "markdown",
   "id": "fa71d772",
   "metadata": {},
   "source": [
    "SMOTE analysis is done because our target variable is imbalanced"
   ]
  },
  {
   "cell_type": "code",
   "execution_count": 141,
   "id": "2f294db0",
   "metadata": {},
   "outputs": [],
   "source": [
    "from imblearn.over_sampling import SMOTE\n",
    "smote=SMOTE()\n",
    "smote_x,smote_y=smote.fit_resample(X,y)"
   ]
  },
  {
   "cell_type": "markdown",
   "id": "98283d0d",
   "metadata": {},
   "source": [
    "# Logistic Regression Model"
   ]
  },
  {
   "cell_type": "code",
   "execution_count": 147,
   "id": "948c2c35",
   "metadata": {},
   "outputs": [],
   "source": [
    "from sklearn.linear_model import LogisticRegression\n",
    "lg=LogisticRegression()\n",
    "from sklearn.model_selection import StratifiedKFold\n",
    "kfold=StratifiedKFold(n_splits=10,shuffle=True,random_state=42)\n",
    "pred=[]\n",
    "for train_index,test_index in kfold.split(smote_x,smote_y):\n",
    "    xtrain=smote_x.loc[train_index]\n",
    "    ytrain=smote_y.loc[train_index]\n",
    "    pred.append(lg.fit(xtrain,ytrain).predict(dummytest))\n",
    "finalpred=np.abs(pd.DataFrame(pred).T.mode(axis=1)[0])\n",
    "# Submission file:\n",
    "submission=pd.DataFrame({'y_bool':finalpred})\n",
    "submission.to_csv('Logistic_smote_mode.csv',index=False)\n",
    "# RMSE score: 8.91995"
   ]
  },
  {
   "cell_type": "markdown",
   "id": "ece23596",
   "metadata": {},
   "source": [
    "# Random Forest Classifier"
   ]
  },
  {
   "cell_type": "code",
   "execution_count": 159,
   "id": "9f7da3f6",
   "metadata": {},
   "outputs": [],
   "source": [
    "from sklearn.ensemble import RandomForestClassifier\n",
    "rf=RandomForestClassifier(random_state=10)\n",
    "kfold=StratifiedKFold(n_splits=10,shuffle=True,random_state=10)\n",
    "pred=[]\n",
    "for train_index,test_index in kfold.split(smote_x,smote_y):\n",
    "    xtrain=smote_x.loc[train_index]\n",
    "    ytrain=smote_y.loc[train_index]\n",
    "    pred.append(rf.fit(xtrain,ytrain).predict(dummytest))\n",
    "finalpred=np.abs(pd.DataFrame(pred).T.mode(axis=1)[0])\n",
    "#Submission file:\n",
    "submission=pd.DataFrame({'y_bool':finalpred})\n",
    "submission.to_csv('RFmodel_mode.csv',index=False)\n",
    "# RMSE score: 10.25936"
   ]
  },
  {
   "cell_type": "code",
   "execution_count": 155,
   "id": "070ca6d4",
   "metadata": {},
   "outputs": [
    {
     "data": {
      "text/plain": [
       "<AxesSubplot:>"
      ]
     },
     "execution_count": 155,
     "metadata": {},
     "output_type": "execute_result"
    },
    {
     "data": {
      "image/png": "[encoded data removed]",
      "text/plain": [
       "<Figure size 720x432 with 1 Axes>"
      ]
     },
     "metadata": {
      "needs_background": "light"
     },
     "output_type": "display_data"
    }
   ],
   "source": [
    "pd.DataFrame({'Importances':rf.feature_importances_},index=smote_x.columns).sort_values(by='Importances',ascending=False).plot(kind='bar')"
   ]
  },
  {
   "cell_type": "code",
   "execution_count": 174,
   "id": "bf000d19",
   "metadata": {},
   "outputs": [
    {
     "data": {
      "text/html": [
       "<style>#sk-container-id-2 {color: black;background-color: white;}#sk-container-id-2 pre{padding: 0;}#sk-container-id-2 div.sk-toggleable {background-color: white;}#sk-container-id-2 label.sk-toggleable__label {cursor: pointer;display: block;width: 100%;margin-bottom: 0;padding: 0.3em;box-sizing: border-box;text-align: center;}#sk-container-id-2 label.sk-toggleable__label-arrow:before {content: \"▸\";float: left;margin-right: 0.25em;color: #696969;}#sk-container-id-2 label.sk-toggleable__label-arrow:hover:before {color: black;}#sk-container-id-2 div.sk-estimator:hover label.sk-toggleable__label-arrow:before {color: black;}#sk-container-id-2 div.sk-toggleable__content {max-height: 0;max-width: 0;overflow: hidden;text-align: left;background-color: #f0f8ff;}#sk-container-id-2 div.sk-toggleable__content pre {margin: 0.2em;color: black;border-radius: 0.25em;background-color: #f0f8ff;}#sk-container-id-2 input.sk-toggleable__control:checked~div.sk-toggleable__content {max-height: 200px;max-width: 100%;overflow: auto;}#sk-container-id-2 input.sk-toggleable__control:checked~label.sk-toggleable__label-arrow:before {content: \"▾\";}#sk-container-id-2 div.sk-estimator input.sk-toggleable__control:checked~label.sk-toggleable__label {background-color: #d4ebff;}#sk-container-id-2 div.sk-label input.sk-toggleable__control:checked~label.sk-toggleable__label {background-color: #d4ebff;}#sk-container-id-2 input.sk-hidden--visually {border: 0;clip: rect(1px 1px 1px 1px);clip: rect(1px, 1px, 1px, 1px);height: 1px;margin: -1px;overflow: hidden;padding: 0;position: absolute;width: 1px;}#sk-container-id-2 div.sk-estimator {font-family: monospace;background-color: #f0f8ff;border: 1px dotted black;border-radius: 0.25em;box-sizing: border-box;margin-bottom: 0.5em;}#sk-container-id-2 div.sk-estimator:hover {background-color: #d4ebff;}#sk-container-id-2 div.sk-parallel-item::after {content: \"\";width: 100%;border-bottom: 1px solid gray;flex-grow: 1;}#sk-container-id-2 div.sk-label:hover label.sk-toggleable__label {background-color: #d4ebff;}#sk-container-id-2 div.sk-serial::before {content: \"\";position: absolute;border-left: 1px solid gray;box-sizing: border-box;top: 0;bottom: 0;left: 50%;z-index: 0;}#sk-container-id-2 div.sk-serial {display: flex;flex-direction: column;align-items: center;background-color: white;padding-right: 0.2em;padding-left: 0.2em;position: relative;}#sk-container-id-2 div.sk-item {position: relative;z-index: 1;}#sk-container-id-2 div.sk-parallel {display: flex;align-items: stretch;justify-content: center;background-color: white;position: relative;}#sk-container-id-2 div.sk-item::before, #sk-container-id-2 div.sk-parallel-item::before {content: \"\";position: absolute;border-left: 1px solid gray;box-sizing: border-box;top: 0;bottom: 0;left: 50%;z-index: -1;}#sk-container-id-2 div.sk-parallel-item {display: flex;flex-direction: column;z-index: 1;position: relative;background-color: white;}#sk-container-id-2 div.sk-parallel-item:first-child::after {align-self: flex-end;width: 50%;}#sk-container-id-2 div.sk-parallel-item:last-child::after {align-self: flex-start;width: 50%;}#sk-container-id-2 div.sk-parallel-item:only-child::after {width: 0;}#sk-container-id-2 div.sk-dashed-wrapped {border: 1px dashed gray;margin: 0 0.4em 0.5em 0.4em;box-sizing: border-box;padding-bottom: 0.4em;background-color: white;}#sk-container-id-2 div.sk-label label {font-family: monospace;font-weight: bold;display: inline-block;line-height: 1.2em;}#sk-container-id-2 div.sk-label-container {text-align: center;}#sk-container-id-2 div.sk-container {/* jupyter's `normalize.less` sets `[hidden] { display: none; }` but bootstrap.min.css set `[hidden] { display: none !important; }` so we also need the `!important` here to be able to override the default hidden behavior on the sphinx rendered scikit-learn.org. See: https://github.com/scikit-learn/scikit-learn/issues/21755 */display: inline-block !important;position: relative;}#sk-container-id-2 div.sk-text-repr-fallback {display: none;}</style><div id=\"sk-container-id-2\" class=\"sk-top-container\"><div class=\"sk-text-repr-fallback\"><pre>SequentialFeatureSelector(estimator=DecisionTreeClassifier(),\n",
       "                          k_features=(1, 28), scoring=&#x27;accuracy&#x27;)</pre><b>In a Jupyter environment, please rerun this cell to show the HTML representation or trust the notebook. <br />On GitHub, the HTML representation is unable to render, please try loading this page with nbviewer.org.</b></div><div class=\"sk-container\" hidden><div class=\"sk-item sk-dashed-wrapped\"><div class=\"sk-label-container\"><div class=\"sk-label sk-toggleable\"><input class=\"sk-toggleable__control sk-hidden--visually\" id=\"sk-estimator-id-4\" type=\"checkbox\" ><label for=\"sk-estimator-id-4\" class=\"sk-toggleable__label sk-toggleable__label-arrow\">SequentialFeatureSelector</label><div class=\"sk-toggleable__content\"><pre>SequentialFeatureSelector(estimator=DecisionTreeClassifier(),\n",
       "                          k_features=(1, 28), scoring=&#x27;accuracy&#x27;)</pre></div></div></div><div class=\"sk-parallel\"><div class=\"sk-parallel-item\"><div class=\"sk-item\"><div class=\"sk-label-container\"><div class=\"sk-label sk-toggleable\"><input class=\"sk-toggleable__control sk-hidden--visually\" id=\"sk-estimator-id-5\" type=\"checkbox\" ><label for=\"sk-estimator-id-5\" class=\"sk-toggleable__label sk-toggleable__label-arrow\">estimator: DecisionTreeClassifier</label><div class=\"sk-toggleable__content\"><pre>DecisionTreeClassifier()</pre></div></div></div><div class=\"sk-serial\"><div class=\"sk-item\"><div class=\"sk-estimator sk-toggleable\"><input class=\"sk-toggleable__control sk-hidden--visually\" id=\"sk-estimator-id-6\" type=\"checkbox\" ><label for=\"sk-estimator-id-6\" class=\"sk-toggleable__label sk-toggleable__label-arrow\">DecisionTreeClassifier</label><div class=\"sk-toggleable__content\"><pre>DecisionTreeClassifier()</pre></div></div></div></div></div></div></div></div></div></div>"
      ],
      "text/plain": [
       "SequentialFeatureSelector(estimator=DecisionTreeClassifier(),\n",
       "                          k_features=(1, 28), scoring='accuracy')"
      ]
     },
     "execution_count": 174,
     "metadata": {},
     "output_type": "execute_result"
    }
   ],
   "source": [
    "from mlxtend.feature_selection import SequentialFeatureSelector\n",
    "sfs=SequentialFeatureSelector(estimator=dtree,k_features='best',forward=True)\n",
    "sfs.fit(smote_x,smote_y)"
   ]
  },
  {
   "cell_type": "code",
   "execution_count": 175,
   "id": "2ff2327d",
   "metadata": {},
   "outputs": [
    {
     "data": {
      "text/plain": [
       "('duration', 'age_cat_Teens')"
      ]
     },
     "execution_count": 175,
     "metadata": {},
     "output_type": "execute_result"
    }
   ],
   "source": [
    "sfs.k_feature_names_"
   ]
  },
  {
   "cell_type": "markdown",
   "id": "79312c6b",
   "metadata": {},
   "source": [
    "# Decision Tree Classifier"
   ]
  },
  {
   "cell_type": "code",
   "execution_count": 158,
   "id": "b55bc312",
   "metadata": {},
   "outputs": [],
   "source": [
    "from sklearn.tree import DecisionTreeClassifier\n",
    "dtree=DecisionTreeClassifier()\n",
    "from sklearn.model_selection import StratifiedKFold\n",
    "kfold=StratifiedKFold(n_splits=10,shuffle=True,random_state=42)\n",
    "pred=[]\n",
    "for train_index,test_index in kfold.split(X,y):\n",
    "    xtrain=X.loc[train_index]\n",
    "    ytrain=y.loc[train_index]\n",
    "    pred.append(dtree.fit(xtrain,ytrain).predict(dummytest))\n",
    "finalpred=np.abs(pd.DataFrame(pred).T.mode(axis=1)[0])\n",
    "# Submission file:\n",
    "submission=pd.DataFrame({'y_bool':finalpred})\n",
    "submission.to_csv('Dtree_withoutsmote.csv',index=False)\n",
    "# RMSE score:10.25936"
   ]
  },
  {
   "cell_type": "markdown",
   "id": "064e7fa9",
   "metadata": {},
   "source": [
    "# Light GBM Classifier"
   ]
  },
  {
   "cell_type": "code",
   "execution_count": 167,
   "id": "a5fd7581",
   "metadata": {},
   "outputs": [],
   "source": [
    "from lightgbm import LGBMClassifier\n",
    "lgbm=LGBMClassifier()\n",
    "kfold=StratifiedKFold(n_splits=10,shuffle=True,random_state=0)\n",
    "pred=[]\n",
    "for train_index,test_index in kfold.split(X,y):\n",
    "    xtrain=X.loc[train_index]\n",
    "    ytrain=y.loc[train_index]\n",
    "    pred.append(lgbm.fit(xtrain,ytrain).predict(dummytest))\n",
    "finalpred=np.abs(pd.DataFrame(pred).T.mode(axis=1)[0])\n",
    "submission=pd.DataFrame({'y_bool':finalpred})\n",
    "submission.to_csv('LGBM.csv',index=False)\n",
    "# RMSE score: 8.77541"
   ]
  },
  {
   "cell_type": "markdown",
   "id": "1b3746d6",
   "metadata": {},
   "source": [
    "So selecting Light GBM classifier as our final model as it is giving the low RMSE value."
   ]
  },
  {
   "cell_type": "code",
   "execution_count": null,
   "id": "5fe9f3b1",
   "metadata": {},
   "outputs": [],
   "source": []
  }
 ],
 "metadata": {
  "kernelspec": {
   "display_name": "Python 3 (ipykernel)",
   "language": "python",
   "name": "python3"
  },
  "language_info": {
   "codemirror_mode": {
    "name": "ipython",
    "version": 3
   },
   "file_extension": ".py",
   "mimetype": "text/x-python",
   "name": "python",
   "nbconvert_exporter": "python",
   "pygments_lexer": "ipython3",
   "version": "3.9.12"
  }
 },
 "nbformat": 4,
 "nbformat_minor": 5
}
